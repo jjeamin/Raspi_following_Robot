{
 "cells": [
  {
   "cell_type": "markdown",
   "metadata": {},
   "source": [
    "# Human_Following_Robots\n",
    "\n",
    "* **software**\n",
    "    - python\n",
    "    - opencv\n",
    "    - rasbian\n",
    "* **hardware**\n",
    "    - raspberry pi 3\n",
    "    - dc motor\n",
    "    - webcam\n",
    "* **git** \n",
    "    - motor test\n",
    "    - opencv test\n",
    "    - human_following_robot"
   ]
  },
  {
   "cell_type": "code",
   "execution_count": 26,
   "metadata": {},
   "outputs": [
    {
     "name": "stdout",
     "output_type": "stream",
     "text": [
      "no detector\n",
      "no cam\n"
     ]
    }
   ],
   "source": [
    "import numpy as np\n",
    "import cv2\n",
    "import time\n",
    "'''\n",
    "#rectangle 컬러\n",
    "red = (0,0,255)\n",
    "green = (0,255,0)\n",
    "blue = (255,0,0)\n",
    "white = (255,255,255)\n",
    "yellow = (0,255,255)\n",
    "cyan = (255, 255, 0)\n",
    "magenta = (255, 0, 255)\n",
    "'''\n",
    "\n",
    "def make_1080p():\n",
    "    cam.set(3, 1920)\n",
    "    cam.set(4, 1080)\n",
    "\n",
    "def make_240p():\n",
    "    cam.set(3, 320)\n",
    "    cam.set(4, 240)\n",
    "\n",
    "def make_480p():\n",
    "    cam.set(3, 640)\n",
    "    cam.set(4, 480)\n",
    "\n",
    "def change_res(width, height):\n",
    "    cam.set(3, width)\n",
    "    cam.set(4, height)\n",
    "    \n",
    "#480x640xpercent \n",
    "def rescale_frame(img, percent=75):\n",
    "    width = int(img.shape[1] * percent/ 100)\n",
    "    height = int(img.shape[0] * percent/ 100)\n",
    "    dim = (width, height)\n",
    "    return cv2.resize(img, dim, interpolation =cv2.INTER_AREA)\n",
    " \n",
    "def move(direction):\n",
    "    center = (240,320)\n",
    "    \n",
    "    \n",
    "\n",
    "def detectAndDisply(img,cascade):\n",
    "    detector = cascade.detectMultiScale(img)\n",
    "    \n",
    "    max_size = -1\n",
    "    index = 0\n",
    "    if(len(detector) != 0):\n",
    "        #만약 검출된 얼굴이 1개 이상일 때\n",
    "        #최댓값 하나로만 인식\n",
    "        for (x,y,w,h) in detector:\n",
    "            if w*h > max_size:\n",
    "                max_size = w*h\n",
    "                max_pos = index\n",
    "            index += 1\n",
    "        \n",
    "        max_rect = detector[max_pos]\n",
    "        (max_x,max_y,max_w,max_h) = detector[max_pos]\n",
    "        \n",
    "        cv2.rectangle(img,(max_x,max_y),(max_x + max_w,max_y + max_h),(0,255,0),2)\n",
    "        \n",
    "        #move(max_rect)\n",
    "        \n",
    "    else:\n",
    "        print('no detector')\n",
    "\n",
    "    cv2.imshow('img',img)\n",
    "\n",
    "\n",
    "#학습된 파일\n",
    "cascade = cv2.CascadeClassifier('C:/Users/JM/haar/haarcascade_frontalface_default.xml')\n",
    "\n",
    "#Cam ON\n",
    "cam = cv2.VideoCapture(1)\n",
    "\n",
    "while 1:\n",
    "    #캠 정보 480x640\n",
    "    ret, img = cam.read()\n",
    "    \n",
    "    #Cam START\n",
    "    if ret:\n",
    "        detectAndDisply(img,cascade)\n",
    "        \n",
    "        #ESC Click -> EXIT\n",
    "        if cv2.waitKey(1) & 0xFF == 27:\n",
    "            break\n",
    "            \n",
    "    else:\n",
    "        print('no cam')\n",
    "        break\n",
    "\n",
    "            \n",
    "cam.release()\n",
    "cv2.destroyAllWindows()"
   ]
  },
  {
   "cell_type": "markdown",
   "metadata": {},
   "source": [
    "# opencv"
   ]
  },
  {
   "cell_type": "code",
   "execution_count": 1,
   "metadata": {},
   "outputs": [],
   "source": [
    "import numpy as np\n",
    "import cv2\n",
    "import time"
   ]
  },
  {
   "cell_type": "markdown",
   "metadata": {},
   "source": [
    "# rectangle color"
   ]
  },
  {
   "cell_type": "code",
   "execution_count": 2,
   "metadata": {},
   "outputs": [
    {
     "data": {
      "text/plain": [
       "'\\n#rectangle 컬러\\nred = (0,0,255)\\ngreen = (0,255,0)\\nblue = (255,0,0)\\nwhite = (255,255,255)\\nyellow = (0,255,255)\\ncyan = (255, 255, 0)\\nmagenta = (255, 0, 255)\\n'"
      ]
     },
     "execution_count": 2,
     "metadata": {},
     "output_type": "execute_result"
    }
   ],
   "source": [
    "'''\n",
    "red = (0,0,255)\n",
    "green = (0,255,0)\n",
    "blue = (255,0,0)\n",
    "white = (255,255,255)\n",
    "yellow = (0,255,255)\n",
    "cyan = (255, 255, 0)\n",
    "magenta = (255, 0, 255)\n",
    "'''"
   ]
  },
  {
   "cell_type": "markdown",
   "metadata": {},
   "source": [
    "# webcam size setting"
   ]
  },
  {
   "cell_type": "code",
   "execution_count": null,
   "metadata": {},
   "outputs": [],
   "source": [
    "def make_1080p():\n",
    "    cam.set(3, 1920)\n",
    "    cam.set(4, 1080)\n",
    "\n",
    "def make_240p():\n",
    "    cam.set(3, 320)\n",
    "    cam.set(4, 240)\n",
    "\n",
    "def make_480p():\n",
    "    cam.set(3, 640)\n",
    "    cam.set(4, 480)\n",
    "\n",
    "def change_res(width, height):\n",
    "    cam.set(3, width)\n",
    "    cam.set(4, height)\n",
    "    \n",
    "#480x640xpercent \n",
    "def rescale_frame(img, percent=75):\n",
    "    width = int(img.shape[1] * percent/ 100)\n",
    "    height = int(img.shape[0] * percent/ 100)\n",
    "    dim = (width, height)\n",
    "    return cv2.resize(img, dim, interpolation =cv2.INTER_AREA)"
   ]
  },
  {
   "cell_type": "markdown",
   "metadata": {},
   "source": [
    "# Human detection and display"
   ]
  },
  {
   "cell_type": "code",
   "execution_count": null,
   "metadata": {},
   "outputs": [],
   "source": [
    "def detectAndDisply(img,cascade):\n",
    "    detector = cascade.detectMultiScale(img)\n",
    "    \n",
    "    max_size = -1\n",
    "    index = 0\n",
    "    if(len(detector) != 0):\n",
    "        #만약 검출된 얼굴이 1개 이상일 때\n",
    "        #최댓값 하나로만 인식\n",
    "        for (x,y,w,h) in detector:\n",
    "            if w*h > max_size:\n",
    "                max_size = w*h\n",
    "                max_pos = index\n",
    "            index += 1\n",
    "        \n",
    "        max_rect = detector[max_pos]\n",
    "        (max_x,max_y,max_w,max_h) = detector[max_pos]\n",
    "        \n",
    "        cv2.rectangle(img,(max_x,max_y),(max_x + max_w,max_y + max_h),(0,255,0),2)\n",
    "        \n",
    "        #move(max_rect)\n",
    "        \n",
    "    else:\n",
    "        print('no detector')\n",
    "\n",
    "    cv2.imshow('img',img)"
   ]
  },
  {
   "cell_type": "markdown",
   "metadata": {},
   "source": [
    "# main"
   ]
  },
  {
   "cell_type": "code",
   "execution_count": null,
   "metadata": {},
   "outputs": [],
   "source": [
    "#학습된 파일\n",
    "cascade = cv2.CascadeClassifier('C:/Users/JM/haar/haarcascade_frontalface_default.xml')\n",
    "\n",
    "#Cam ON\n",
    "cam = cv2.VideoCapture(1)\n",
    "\n",
    "while 1:\n",
    "    #캠 정보 480x640\n",
    "    ret, img = cam.read()\n",
    "    \n",
    "    #Cam START\n",
    "    if ret:\n",
    "        detectAndDisply(img,cascade)\n",
    "        \n",
    "        #ESC Click -> EXIT\n",
    "        if cv2.waitKey(1) & 0xFF == 27:\n",
    "            break\n",
    "            \n",
    "    else:\n",
    "        print('no cam')\n",
    "        break\n",
    "\n",
    "            \n",
    "cam.release()\n",
    "cv2.destroyAllWindows()"
   ]
  }
 ],
 "metadata": {
  "kernelspec": {
   "display_name": "Python 3",
   "language": "python",
   "name": "python3"
  },
  "language_info": {
   "codemirror_mode": {
    "name": "ipython",
    "version": 3
   },
   "file_extension": ".py",
   "mimetype": "text/x-python",
   "name": "python",
   "nbconvert_exporter": "python",
   "pygments_lexer": "ipython3",
   "version": "3.5.3"
  }
 },
 "nbformat": 4,
 "nbformat_minor": 2
}
